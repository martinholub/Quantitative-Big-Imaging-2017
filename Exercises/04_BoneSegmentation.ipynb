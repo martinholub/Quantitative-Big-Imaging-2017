{
  "metadata": {
    "kernelspec": {
      "display_name": "Python 3",
      "language": "python",
      "name": "python3"
    },
    "language_info": {
      "codemirror_mode": {
        "name": "ipython",
        "version": 3
      },
      "file_extension": ".py",
      "mimetype": "text/x-python",
      "name": "python",
      "nbconvert_exporter": "python",
      "pygments_lexer": "ipython3",
      "version": "3.6.0"
    }
  },
  "nbformat": 4,
  "nbformat_minor": 0,
  "cells": [
    {
      "cell_type": "markdown",
      "source": "## Bone-Segmentation\n\n### Simple\n\n Here we have the simple task of segmenting the calcified bone tissue from the air and background in the image",
      "metadata": {}
    },
    {
      "cell_type": "code",
      "source": "import numpy as np # linear algebra\nfrom skimage.io import imread\nimport matplotlib.pyplot as plt",
      "execution_count": null,
      "outputs": [],
      "metadata": {}
    },
    {
      "cell_type": "code",
      "source": "bone_image = imread('../input/bone.tif')\nprint('Loading bone image shape: {}'.format(bone_image.shape))",
      "execution_count": null,
      "outputs": [],
      "metadata": {}
    },
    {
      "cell_type": "markdown",
      "source": "The first step is to show the image data and the associated histogram",
      "metadata": {}
    },
    {
      "cell_type": "code",
      "source": "%matplotlib inline\nfig, (ax1, ax2) = plt.subplots(1,2, figsize = (10, 4))\nax1.imshow(bone_image, cmap = 'bone')\n_ = ax2.hist(bone_image.ravel(), 20)",
      "execution_count": null,
      "outputs": [],
      "metadata": {}
    },
    {
      "cell_type": "code",
      "source": "%matplotlib inline\nsilly_thresh_value = 55\nthresh_image = bone_image > silly_thresh_value\ndef plot_thresh(bone_image, thresh_image):\n    fig, (ax1, ax2) = plt.subplots(1,2, figsize = (20, 10))\n    ax1.imshow(bone_image, cmap = 'bone')\n    ax1.set_title('Original Image')\n    ax2.imshow(thresh_image, cmap = 'jet')\n    ax2.set_title('Thresholded Image')",
      "execution_count": null,
      "outputs": [],
      "metadata": {}
    },
    {
      "cell_type": "code",
      "source": "# import the needed morphological operations\nfrom skimage.morphology import binary_erosion, binary_dilation, binary_opening, binary_closing\n## your code",
      "execution_count": null,
      "outputs": [],
      "metadata": {}
    },
    {
      "cell_type": "code",
      "source": "# import a few filters\nfrom skimage.filters import gaussian, median\n## your code",
      "execution_count": null,
      "outputs": [],
      "metadata": {}
    },
    {
      "cell_type": "markdown",
      "source": " - Apply a threshold and then a morphological operation to segment the calcified tissue well\n - Calculate the porosity (air) volume fraction for each threshold (_hint_: Image Features)\n - Improve the images using morphological operations and recalculate the porosity (_hint_: Morphological Image Operations)\n - Fill in all the holes and estimate the bone volume to total volume an important diagnostic metric in biomechanics (_hint_: Fill Holes)\n - Total volume is __not__ the total volume of image but rather the size of the bone inside the image\n - Add a filtering block, which works best on these data?",
      "metadata": {}
    },
    {
      "cell_type": "code",
      "source": "bone_image2 = binary_opening(bone_image)\nplot_thresh(bone_image, bone_image2)",
      "execution_count": null,
      "outputs": [],
      "metadata": {}
    },
    {
      "cell_type": "markdown",
      "source": "We can now apply a very silly threshold and see how the results look",
      "metadata": {}
    },
    {
      "cell_type": "markdown",
      "source": "### ManyThresh\n\nHere we try a number of different thresholds to identify the bone better.\n\n1. Adjust the list of thresholds to cover a reasonable range\n1. Adjust the morphological operation to it produces the best result\n1. Add many more steps around the ideal value how does the curve look?",
      "metadata": {}
    },
    {
      "cell_type": "code",
      "source": "b%matplotlib inline\nthreshold_list = [10, 20, 200]\n\nfig, m_ax = plt.subplots(2, len(threshold_list), figsize = (15, 6))\nfor c_thresh, (c_ax1, c_ax2) in zip(threshold_list, m_ax.T):\n    bone_thresh = bone_image > c_thresh\n    # your code here\n    c_ax1.imshow(bone_thresh, cmap = 'jet')\n    c_ax1.set_title('Bone @ {}, Image'.format(c_thresh))\n    c_ax1.axis('off')\n    \n    # do cells\n    cell_thresh = bone_image < c_thresh\n    # your code here\n    c_ax2.imshow(cell_thresh, cmap = 'jet')\n    c_ax2.set_title('Cell @ {}, Image'.format(c_thresh))\n    c_ax2.axis('off')\n    ",
      "execution_count": null,
      "outputs": [],
      "metadata": {}
    },
    {
      "cell_type": "markdown",
      "source": "## Cell-Segmentation\n\nThe cell segmentation takes the process one step further and tries to identify the cells by looking for holes inside the bone tissue. \n\n1. Adjust the threshold to the best value as determined before\n1. Adjust the iterations for the morphological operation \n1. Tweak settings to segment cells better\n\n\n\n1. Make a plot of the X position against the maximum intensity, is there any trend? What might this be from?\n1. _Optional_: Add 'Haralick' feature analysis to the output, plot some of the parameters against position - Apply a threshold and then a morphological operation to segment the calcified tissue well\n - Calculate the porosity (air) volume fraction for each threshold (_hint_: Image Features)\n - Improve the images using morphological operations and recalculate the porosity (_hint_: Morphological Image Operations)\n - Fill in all the holes and estimate the bone volume to total volume an important diagnostic metric in biomechanics (_hint_: Fill Holes)\n - Total volume is __not__ the total volume of image but rather the size of the bone inside the image\n - Add a filtering block, which works best on these data?",
      "metadata": {}
    },
    {
      "cell_type": "code",
      "source": null,
      "execution_count": null,
      "outputs": [],
      "metadata": {}
    }
  ]
}