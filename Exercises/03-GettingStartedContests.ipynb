{
 "cells": [
  {
   "cell_type": "markdown",
   "metadata": {},
   "source": [
    "# Introduction\n",
    "Contests have become a very popular way to develop new algorithms. The basic idea is to give a large group of people (participants) access to exactly the same training data and testing data.\n",
    "### Training Data\n",
    "The training data has some input and the desired output. In the case of this example the input is an image and the output is the identification of the number which is inside the image. In the case of the 2017 Kaggle Data Science Bowl this is a Chest CT of a person and the output is a 1 or 0 if they have cancer or not. The training data is then used to build a number of different tools to solve the problem.\n",
    "### Testing Data\n",
    "The testing data are also made up of inputs and desired outputs, but the participants are just given the inputs (in this case just the images) upon which the different algorithms can be tested. Each participant submits their predictions or guesses for the ouputs to the organizer who can then compare the guesses with the known outputs. The algorithm which _matches_ the most wins (there are many different criteria for choosing the best, but in this case we will just count matches).\n",
    "\n",
    "### Standard Imports\n",
    "Here we just import some of the standard functions we will need later"
   ]
  },
  {
   "cell_type": "code",
   "execution_count": 2,
   "metadata": {
    "collapsed": false
   },
   "outputs": [],
   "source": [
    "from __future__ import print_function, division\n",
    "import numpy as np\n",
    "import matplotlib.pyplot as plt\n",
    "import os # for operating system commands like dealing with paths\n",
    "DATA_PATH = 'F:/Uni_ETH/0_QBI/Data~' # where are the test.csv and train.csv files located\n",
    "test_data_path = os.path.join(DATA_PATH, 'test.csv')\n",
    "train_data_path = os.path.join(DATA_PATH, 'train.csv')"
   ]
  },
  {
   "cell_type": "markdown",
   "metadata": {},
   "source": [
    "Load the training data from the file. Since we know the first column is the 'label' of the number we extract that from the rest and reform the remaining columns as a 28x28 array"
   ]
  },
  {
   "cell_type": "code",
   "execution_count": 3,
   "metadata": {
    "collapsed": false
   },
   "outputs": [
    {
     "name": "stdout",
     "output_type": "stream",
     "text": [
      "Wall time: 1min 9s\n"
     ]
    }
   ],
   "source": [
    "%%time\n",
    "# this takes around 30 seconds so be patient\n",
    "train_data = np.loadtxt(train_data_path, delimiter = ',', skiprows = 1)\n",
    "numb_id = train_data[:,0] # just the number id\n",
    "numb_vec = train_data[:,1:] # the array of the images"
   ]
  },
  {
   "cell_type": "code",
   "execution_count": 4,
   "metadata": {
    "collapsed": false
   },
   "outputs": [
    {
     "name": "stdout",
     "output_type": "stream",
     "text": [
      "Input Data: (42000, 785)\n",
      "Number ID: (42000,)\n",
      "Number Vector: (42000, 784)\n"
     ]
    }
   ],
   "source": [
    "print('Input Data:', train_data.shape)\n",
    "print('Number ID:', numb_id.shape)\n",
    "print('Number Vector:', numb_vec.shape)"
   ]
  },
  {
   "cell_type": "markdown",
   "metadata": {},
   "source": [
    "The image is formatted as a vector (a single long array), we want to reshape it to look like an image"
   ]
  },
  {
   "cell_type": "code",
   "execution_count": 5,
   "metadata": {
    "collapsed": false
   },
   "outputs": [
    {
     "name": "stdout",
     "output_type": "stream",
     "text": [
      "Number Image (42000, 28, 28)\n"
     ]
    }
   ],
   "source": [
    "numb_image = numb_vec.reshape(-1, 28, 28)\n",
    "print('Number Image', numb_image.shape)"
   ]
  },
  {
   "cell_type": "markdown",
   "metadata": {},
   "source": [
    "Now we can show the image to make sure it is reasonable"
   ]
  },
  {
   "cell_type": "code",
   "execution_count": 6,
   "metadata": {
    "collapsed": false
   },
   "outputs": [
    {
     "data": {
      "text/plain": [
       "(-0.5, 27.5, 27.5, -0.5)"
      ]
     },
     "execution_count": 6,
     "metadata": {},
     "output_type": "execute_result"
    },
    {
     "data": {
      "image/png": "[encoded data removed]",
      "text/plain": [
       "<matplotlib.figure.Figure at 0x5b0896da0>"
      ]
     },
     "metadata": {},
     "output_type": "display_data"
    }
   ],
   "source": [
    "%matplotlib inline\n",
    "fig, ax1 = plt.subplots(1,1)\n",
    "ax1.matshow(numb_image[100], cmap = 'gray')\n",
    "ax1.set_title('Current Digit {}'.format(numb_id[100]))\n",
    "ax1.axis('off')"
   ]
  },
  {
   "cell_type": "markdown",
   "metadata": {},
   "source": [
    "# Building a Classifier\n",
    "Since we haven't covered any of the machine learning approaches yet, we will focus on a very simple classifier. Here we will use the MSE and SSIM that we learned about last lecture in order to take a given image and see what image it is most similar to. For this rather than taking the whole image set, we will just take one example of each number (hopefully it is a good example)\n",
    "## Getting Examples"
   ]
  },
  {
   "cell_type": "code",
   "execution_count": 72,
   "metadata": {
    "collapsed": true
   },
   "outputs": [],
   "source": [
    "from scipy.ndimage.filters import gaussian_filter\n",
    "current_filter = lambda img: gaussian_filter(img, sigma = (1, 1), order = (0, 0), mode = 'reflect')"
   ]
  },
  {
   "cell_type": "code",
   "execution_count": 73,
   "metadata": {
    "collapsed": false
   },
   "outputs": [],
   "source": [
    "digit_examples = {} # we use a dictionary to store the results\n",
    "for cur_digit in np.unique(numb_id):\n",
    "    # find the first example\n",
    "    digit_matches = np.where(numb_id == cur_digit)\n",
    "    digit_examples[cur_digit] = current_filter(numb_image[digit_matches[0][0]])"
   ]
  },
  {
   "cell_type": "code",
   "execution_count": 74,
   "metadata": {
    "collapsed": false
   },
   "outputs": [
    {
     "data": {
      "image/png": "[encoded data removed]",
      "text/plain": [
       "<matplotlib.figure.Figure at 0x5ef787208>"
      ]
     },
     "metadata": {},
     "output_type": "display_data"
    }
   ],
   "source": [
    "fig, c_axs = plt.subplots(1, len(digit_examples), figsize = (20, 3))\n",
    "for c_ax, (c_digit, c_img) in zip(c_axs, digit_examples.items()):\n",
    "    c_ax.imshow(c_img, cmap = 'gray', interpolation = 'none')\n",
    "    c_ax.set_title('Digit {}'.format(c_digit))\n",
    "    c_ax.axis('off')"
   ]
  },
  {
   "cell_type": "markdown",
   "metadata": {},
   "source": [
    "### Obtain Test Data"
   ]
  },
  {
   "cell_type": "code",
   "execution_count": 5,
   "metadata": {
    "collapsed": false
   },
   "outputs": [
    {
     "name": "stdout",
     "output_type": "stream",
     "text": [
      "Test Vec (28000, 784)\n",
      "Test Image (28000, 28, 28)\n",
      "Wall time: 47.5 s\n"
     ]
    }
   ],
   "source": [
    "%%time\n",
    "test_vec = np.loadtxt(test_data_path, delimiter = ',', skiprows = 1)\n",
    "print('Test Vec', test_vec.shape)\n",
    "test_image = test_vec.reshape(-1, 28, 28)\n",
    "print('Test Image', test_image.shape)"
   ]
  },
  {
   "cell_type": "markdown",
   "metadata": {},
   "source": [
    "### Build the Classifier #1\n",
    "Using the dictionary of example digits we can build a very simple classifier using the MSE to find the best match"
   ]
  },
  {
   "cell_type": "code",
   "execution_count": 65,
   "metadata": {
    "collapsed": true
   },
   "outputs": [],
   "source": [
    "def mse(img1, img2):\n",
    "    return np.mean(np.power(img1-img2,2))\n",
    "\n",
    "from skimage.measure import compare_ssim as ssim # structural similarity"
   ]
  },
  {
   "cell_type": "code",
   "execution_count": 66,
   "metadata": {
    "collapsed": true
   },
   "outputs": [],
   "source": [
    "def classify_image(example_dict, in_image):\n",
    "    score_dict = {c_digit: ssim(in_image, c_img) for c_digit, c_img in example_dict.items()}\n",
    "    # For SSIM you sort with reverse = True\n",
    "    best_digit, best_score = sorted(score_dict.items(), \n",
    "                                    key = lambda x: x[1], reverse = True)[0] # sort by score and take the first item\n",
    "    return best_digit, score_dict"
   ]
  },
  {
   "cell_type": "code",
   "execution_count": 71,
   "metadata": {
    "collapsed": false
   },
   "outputs": [
    {
     "name": "stdout",
     "output_type": "stream",
     "text": [
      "Guessed 2.0, actual result was 1.0\n",
      "Score for other numbers: {0.0: -0.021762165093652301, 1.0: 0.084752505421324439, 2.0: 0.1568919889037001, 3.0: 0.028314160477971511, 4.0: -0.04221010433930681, 5.0: 0.084527288828559644, 6.0: 0.029603555306218315, 7.0: 0.10132093189853725, 8.0: 0.14132104999148043, 9.0: 0.083373803877080793}\n"
     ]
    },
    {
     "data": {
      "image/png": "[encoded data removed]",
      "text/plain": [
       "<matplotlib.figure.Figure at 0x5f0323a58>"
      ]
     },
     "metadata": {},
     "output_type": "display_data"
    }
   ],
   "source": [
    "rand_digit = np.random.choice(range(len(numb_image))) # just picks a random digit\n",
    "def guess_idx(digit_idx):\n",
    "    guess_digit, guess_dict = classify_image(digit_examples, numb_image[digit_idx])\n",
    "    print('Guessed {}, actual result was {}'.format(guess_digit, numb_id[digit_idx]))\n",
    "    print('Score for other numbers:', guess_dict)\n",
    "    # show the results\n",
    "    fig, (ax_img, ax_score) = plt.subplots(1,2, figsize = (10, 5))\n",
    "    ax_img.imshow(numb_image[rand_digit], cmap = 'gray', interpolation = 'none')\n",
    "    ax_img.set_title('Guessed {}, actual result was {}'.format(guess_digit, numb_id[digit_idx]))\n",
    "    ax_score.bar(guess_dict.keys(), guess_dict.values())\n",
    "    ax_score.set_xlabel('Digit')\n",
    "    ax_score.set_ylabel('MSE')\n",
    "    ax_score.set_title('MSE for each digit')\n",
    "\n",
    "guess_idx(rand_digit)"
   ]
  },
  {
   "cell_type": "markdown",
   "metadata": {},
   "source": [
    "### Build the Classifier #2\n",
    "use more elaborate model\n"
   ]
  },
  {
   "cell_type": "code",
   "execution_count": 6,
   "metadata": {
    "collapsed": false
   },
   "outputs": [
    {
     "name": "stdout",
     "output_type": "stream",
     "text": [
      "Wall time: 1min 28s\n"
     ]
    }
   ],
   "source": [
    "%%time\n",
    "from sklearn.svm import SVC\n",
    "from sklearn.preprocessing import MinMaxScaler, StandardScaler\n",
    "from sklearn.utils import shuffle\n",
    "from sklearn.decomposition import PCA\n",
    "# numb_vec, numb_id, test_vec\n",
    "\n",
    "rnd_state = np.random.randint(0,128**2)\n",
    "numb_vecS, numb_idS = shuffle(numb_vec, numb_id, random_state = rnd_state)\n",
    "\n",
    "scaler = StandardScaler().fit(numb_vecS)\n",
    "trainData = scaler.transform(numb_vecS)\n",
    "pca = PCA().fit(trainData)\n",
    "trainData = pca.transform(trainData)"
   ]
  },
  {
   "cell_type": "code",
   "execution_count": null,
   "metadata": {
    "collapsed": false
   },
   "outputs": [],
   "source": [
    "%%time\n",
    "testData = scaler.transform(test_vec)\n",
    "testData = pca.transform(testData)\n",
    "\n",
    "svc = SVC(C = 1, gamma = 1/trainData.shape[1])\n",
    "svc.fit(trainData, numb_idS)\n",
    "pred_id = svc.predict(testData)"
   ]
  },
  {
   "cell_type": "code",
   "execution_count": null,
   "metadata": {
    "collapsed": true
   },
   "outputs": [],
   "source": [
    "123"
   ]
  },
  {
   "cell_type": "markdown",
   "metadata": {},
   "source": [
    "# Submitting an Entry\n",
    "We can now submit an entry to the contest by running our digit classifier on all of the test images. The data for the test images is the same as the training data but there are no labels."
   ]
  },
  {
   "cell_type": "markdown",
   "metadata": {},
   "source": [
    "## Make a guess for each image\n",
    "Here we make a guess for each image by using our ```classify_image``` function and just keeping the first result (the digit) and not the entire dictionary"
   ]
  },
  {
   "cell_type": "code",
   "execution_count": 51,
   "metadata": {
    "collapsed": false
   },
   "outputs": [
    {
     "name": "stdout",
     "output_type": "stream",
     "text": [
      "Wall time: 2min 35s\n"
     ]
    }
   ],
   "source": [
    "%%time\n",
    "guess_test_data = [classify_image(digit_examples, c_img)[0] for c_img in test_image]"
   ]
  },
  {
   "cell_type": "markdown",
   "metadata": {},
   "source": [
    "### Save the results\n",
    "Here we save the results to a file called submission that we can upload to Kaggle and see how we perform"
   ]
  },
  {
   "cell_type": "code",
   "execution_count": 52,
   "metadata": {
    "collapsed": false
   },
   "outputs": [],
   "source": [
    "with open('submission.csv', 'w') as out_file:\n",
    "    out_file.write('ImageId,Label\\n')\n",
    "    # for img_id, guess_label in enumerate(guess_test_data):\n",
    "    for img_id, guess_label in enumerate(pred_id):\n",
    "        out_file.write('%d,%d\\n' % (img_id+1, guess_label))"
   ]
  },
  {
   "cell_type": "markdown",
   "metadata": {},
   "source": [
    "# Basic Tasks\n",
    "- Submit the output to the competition, where does it come in? Is this better or worse than expected? What would random guessing be?\n",
    "\n",
    "# Idea Questions\n",
    "- What causes the classifier to fail on certain images?\n",
    "- How could the classifier be improved?\n",
    "- Could filtering or image enhancement improve the result, if so how\n",
    "\n",
    "# Challenge Tasks\n",
    "- Try improving the classifier by using SSIM or another similarity metric.\n",
    "- Try using more examples (or better examples)\n",
    "- Implement a version using image enhancement and compare the results"
   ]
  },
  {
   "cell_type": "code",
   "execution_count": null,
   "metadata": {
    "collapsed": true
   },
   "outputs": [],
   "source": []
  },
  {
   "cell_type": "markdown",
   "metadata": {},
   "source": [
    "# Building a Classifier _ Enhanced\n",
    "Here we try to construct a more powerful classifer using what is already available"
   ]
  },
  {
   "cell_type": "code",
   "execution_count": null,
   "metadata": {
    "collapsed": true
   },
   "outputs": [],
   "source": [
    "from sklearn.svm import SVC\n",
    "classifier = SVC(C = 1, gamma = 0.001)\n",
    "classifier.fit(numb_vec, numb_id)\n",
    "predicted = classifier.predict(test_vec)"
   ]
  },
  {
   "cell_type": "code",
   "execution_count": 4,
   "metadata": {
    "collapsed": true
   },
   "outputs": [],
   "source": [
    "import tensorflow as tf\n",
    "# create image placeholder\n",
    "x = tf.placeholder(tf.float32, [None, 784])\n",
    "\n",
    "# Variables to learn \n",
    "W = tf.Variable(tf.zeros([784, 10]))\n",
    "b = tf.Variable(tf.zeros([10]))\n",
    "\n",
    "# define model\n",
    "y = tf.nn.softmax(tf.matmul(x, W) + b)\n",
    "\n",
    "#\n",
    "y_ = tf.placeholder(tf.float32, [None, 10])\n",
    "\n",
    "# Implement cross entropy\n",
    "cross_entropy = tf.reduce_mean(-tf.reduce_sum(y_ * tf.log(y), reduction_indices=[1]))\n",
    "# Train by minimizng a function\n",
    "train_step = tf.train.GradientDescentOptimizer(0.5).minimize(cross_entropy)"
   ]
  },
  {
   "cell_type": "code",
   "execution_count": null,
   "metadata": {
    "collapsed": true
   },
   "outputs": [],
   "source": [
    "sess = tf.InteractiveSession()\n",
    "tf.global_variables_initializer().run()\n",
    "for _ in range(1000):\n",
    "  batch_xs, batch_ys = mnist.train.next_batch(100)\n",
    "  sess.run(train_step, feed_dict={x: batch_xs, y_: batch_ys})"
   ]
  },
  {
   "cell_type": "code",
   "execution_count": 33,
   "metadata": {
    "collapsed": false
   },
   "outputs": [
    {
     "ename": "NameError",
     "evalue": "name 'predicted' is not defined",
     "output_type": "error",
     "traceback": [
      "\u001b[1;31m---------------------------------------------------------------------------\u001b[0m",
      "\u001b[1;31mNameError\u001b[0m                                 Traceback (most recent call last)",
      "\u001b[1;32m<ipython-input-33-0e70fd13cf73>\u001b[0m in \u001b[0;36m<module>\u001b[1;34m()\u001b[0m\n\u001b[0;32m      1\u001b[0m \u001b[1;32mwith\u001b[0m \u001b[0mopen\u001b[0m\u001b[1;33m(\u001b[0m\u001b[1;34m'submission_new.csv'\u001b[0m\u001b[1;33m,\u001b[0m \u001b[1;34m'w'\u001b[0m\u001b[1;33m)\u001b[0m \u001b[1;32mas\u001b[0m \u001b[0mout_file\u001b[0m\u001b[1;33m:\u001b[0m\u001b[1;33m\u001b[0m\u001b[0m\n\u001b[0;32m      2\u001b[0m     \u001b[0mout_file\u001b[0m\u001b[1;33m.\u001b[0m\u001b[0mwrite\u001b[0m\u001b[1;33m(\u001b[0m\u001b[1;34m'ImageId,Label\\n'\u001b[0m\u001b[1;33m)\u001b[0m\u001b[1;33m\u001b[0m\u001b[0m\n\u001b[1;32m----> 3\u001b[1;33m     \u001b[1;32mfor\u001b[0m \u001b[0mimg_id\u001b[0m\u001b[1;33m,\u001b[0m \u001b[0mguess_label\u001b[0m \u001b[1;32min\u001b[0m \u001b[0menumerate\u001b[0m\u001b[1;33m(\u001b[0m\u001b[0mpredicted\u001b[0m\u001b[1;33m)\u001b[0m\u001b[1;33m:\u001b[0m\u001b[1;33m\u001b[0m\u001b[0m\n\u001b[0m\u001b[0;32m      4\u001b[0m         \u001b[0mout_file\u001b[0m\u001b[1;33m.\u001b[0m\u001b[0mwrite\u001b[0m\u001b[1;33m(\u001b[0m\u001b[1;34m'%d,%d\\n'\u001b[0m \u001b[1;33m%\u001b[0m \u001b[1;33m(\u001b[0m\u001b[0mimg_id\u001b[0m\u001b[1;33m+\u001b[0m\u001b[1;36m1\u001b[0m\u001b[1;33m,\u001b[0m \u001b[0mguess_label\u001b[0m\u001b[1;33m)\u001b[0m\u001b[1;33m)\u001b[0m\u001b[1;33m\u001b[0m\u001b[0m\n",
      "\u001b[1;31mNameError\u001b[0m: name 'predicted' is not defined"
     ]
    }
   ],
   "source": [
    "with open('submission_new.csv', 'w') as out_file:\n",
    "    out_file.write('ImageId,Label\\n')\n",
    "    for img_id, guess_label in enumerate(predicted):\n",
    "        out_file.write('%d,%d\\n' % (img_id+1, guess_label))"
   ]
  }
 ],
 "metadata": {
  "kernelspec": {
   "display_name": "Python 3",
   "language": "python",
   "name": "python3"
  },
  "language_info": {
   "codemirror_mode": {
    "name": "ipython",
    "version": 3
   },
   "file_extension": ".py",
   "mimetype": "text/x-python",
   "name": "python",
   "nbconvert_exporter": "python",
   "pygments_lexer": "ipython3",
   "version": "3.5.2"
  },
  "widgets": {
   "state": {
    "cd61fe53a1134879ab7d316fd6aa7dcd": {
     "views": [
      {
       "cell_index": 16
      }
     ]
    }
   },
   "version": "1.2.0"
  }
 },
 "nbformat": 4,
 "nbformat_minor": 1
}
