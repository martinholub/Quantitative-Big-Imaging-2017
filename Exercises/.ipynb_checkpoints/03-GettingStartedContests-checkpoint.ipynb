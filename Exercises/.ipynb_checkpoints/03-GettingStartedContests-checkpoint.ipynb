{
 "cells": [
  {
   "cell_type": "markdown",
   "metadata": {},
   "source": [
    "# Introduction\n",
    "Contests have become a very popular way to develop new algorithms. The basic idea is to give a large group of people (participants) access to exactly the same training data and testing data.\n",
    "### Training Data\n",
    "The training data has some input and the desired output. In the case of this example the input is an image and the output is the identification of the number which is inside the image. In the case of the 2017 Kaggle Data Science Bowl this is a Chest CT of a person and the output is a 1 or 0 if they have cancer or not. The training data is then used to build a number of different tools to solve the problem.\n",
    "### Testing Data\n",
    "The testing data are also made up of inputs and desired outputs, but the participants are just given the inputs (in this case just the images) upon which the different algorithms can be tested. Each participant submits their predictions or guesses for the ouputs to the organizer who can then compare the guesses with the known outputs. The algorithm which _matches_ the most wins (there are many different criteria for choosing the best, but in this case we will just count matches).\n",
    "\n",
    "### Standard Imports\n",
    "Here we just import some of the standard functions we will need later"
   ]
  },
  {
   "cell_type": "code",
   "execution_count": 1,
   "metadata": {
    "collapsed": false
   },
   "outputs": [],
   "source": [
    "from __future__ import print_function, division\n",
    "import numpy as np\n",
    "import matplotlib.pyplot as plt\n",
    "import os # for operating system commands like dealing with paths\n",
    "DATA_PATH = 'F:/Uni_ETH/0_QBI/Data~' # where are the test.csv and train.csv files located\n",
    "test_data_path = os.path.join(DATA_PATH, 'test.csv')\n",
    "train_data_path = os.path.join(DATA_PATH, 'train.csv')"
   ]
  },
  {
   "cell_type": "markdown",
   "metadata": {},
   "source": [
    "Load the training data from the file. Since we know the first column is the 'label' of the number we extract that from the rest and reform the remaining columns as a 28x28 array"
   ]
  },
  {
   "cell_type": "code",
   "execution_count": 2,
   "metadata": {
    "collapsed": false
   },
   "outputs": [
    {
     "name": "stdout",
     "output_type": "stream",
     "text": [
      "Wall time: 1min 24s\n"
     ]
    }
   ],
   "source": [
    "%%time\n",
    "# this takes around 30 seconds so be patient\n",
    "train_data = np.loadtxt(train_data_path, delimiter = ',', skiprows = 1)\n",
    "numb_id = train_data[:,0] # just the number id\n",
    "numb_vec = train_data[:,1:] # the array of the images"
   ]
  },
  {
   "cell_type": "code",
   "execution_count": 3,
   "metadata": {
    "collapsed": false
   },
   "outputs": [
    {
     "name": "stdout",
     "output_type": "stream",
     "text": [
      "Input Data: (42000, 785)\n",
      "Number ID: (42000,)\n",
      "Number Vector: (42000, 784)\n"
     ]
    }
   ],
   "source": [
    "print('Input Data:', train_data.shape)\n",
    "print('Number ID:', numb_id.shape)\n",
    "print('Number Vector:', numb_vec.shape)"
   ]
  },
  {
   "cell_type": "markdown",
   "metadata": {},
   "source": [
    "The image is formatted as a vector (a single long array), we want to reshape it to look like an image"
   ]
  },
  {
   "cell_type": "code",
   "execution_count": 5,
   "metadata": {
    "collapsed": false
   },
   "outputs": [
    {
     "name": "stdout",
     "output_type": "stream",
     "text": [
      "Number Image (42000, 28, 28)\n"
     ]
    }
   ],
   "source": [
    "numb_image = numb_vec.reshape(-1, 28, 28)\n",
    "print('Number Image', numb_image.shape)"
   ]
  },
  {
   "cell_type": "markdown",
   "metadata": {},
   "source": [
    "Now we can show the image to make sure it is reasonable"
   ]
  },
  {
   "cell_type": "code",
   "execution_count": 22,
   "metadata": {
    "collapsed": false
   },
   "outputs": [
    {
     "data": {
      "text/plain": [
       "(-0.5, 27.5, 27.5, -0.5)"
      ]
     },
     "execution_count": 22,
     "metadata": {},
     "output_type": "execute_result"
    },
    {
     "data": {
      "image/png": "[encoded data removed]",
      "text/plain": [
       "<matplotlib.figure.Figure at 0xf681744518>"
      ]
     },
     "metadata": {},
     "output_type": "display_data"
    }
   ],
   "source": [
    "%matplotlib inline\n",
    "fig, ax1 = plt.subplots(1,1)\n",
    "ax1.matshow(numb_image[100], cmap = 'gray')\n",
    "ax1.set_title('Current Digit {}'.format(numb_id[100]))\n",
    "ax1.axis('off')"
   ]
  },
  {
   "cell_type": "markdown",
   "metadata": {},
   "source": [
    "# Building a Classifier\n",
    "Since we haven't covered any of the machine learning approaches yet, we will focus on a very simple classifier. Here we will use the MSE and SSIM that we learned about last lecture in order to take a given image and see what image it is most similar to. For this rather than taking the whole image set, we will just take one example of each number (hopefully it is a good example)\n",
    "## Getting Examples"
   ]
  },
  {
   "cell_type": "code",
   "execution_count": 7,
   "metadata": {
    "collapsed": false
   },
   "outputs": [],
   "source": [
    "digit_examples = {} # we use a dictionary to store the results\n",
    "for cur_digit in np.unique(numb_id):\n",
    "    # find the first example\n",
    "    digit_matches = np.where(numb_id == cur_digit)\n",
    "    digit_examples[cur_digit] = numb_image[digit_matches[0][0]]"
   ]
  },
  {
   "cell_type": "code",
   "execution_count": 8,
   "metadata": {
    "collapsed": false
   },
   "outputs": [
    {
     "data": {
      "image/png": "[encoded data removed]",
      "text/plain": [
       "<matplotlib.figure.Figure at 0xf68c482048>"
      ]
     },
     "metadata": {},
     "output_type": "display_data"
    }
   ],
   "source": [
    "fig, c_axs = plt.subplots(1, len(digit_examples), figsize = (20, 3))\n",
    "for c_ax, (c_digit, c_img) in zip(c_axs, digit_examples.items()):\n",
    "    c_ax.imshow(c_img, cmap = 'gray', interpolation = 'none')\n",
    "    c_ax.set_title('Digit {}'.format(c_digit))\n",
    "    c_ax.axis('off')"
   ]
  },
  {
   "cell_type": "markdown",
   "metadata": {},
   "source": [
    "### Build the Classifier\n",
    "Using the dictionary of example digits we can build a very simple classifier using the MSE to find the best match"
   ]
  },
  {
   "cell_type": "code",
   "execution_count": 10,
   "metadata": {
    "collapsed": true
   },
   "outputs": [],
   "source": [
    "def mse(img1, img2):\n",
    "    return np.mean(np.power(img1-img2,2))\n",
    "\n",
    "def classify_image(example_dict, in_image):\n",
    "    score_dict = {c_digit: mse(in_image, c_img) for c_digit, c_img in example_dict.items()}\n",
    "    best_digit, best_score = sorted(score_dict.items(), \n",
    "                                    key = lambda x: x[1])[0] # sort by score and take the first item\n",
    "    return best_digit, score_dict"
   ]
  },
  {
   "cell_type": "code",
   "execution_count": 11,
   "metadata": {
    "collapsed": false
   },
   "outputs": [
    {
     "name": "stdout",
     "output_type": "stream",
     "text": [
      "Guessed 4.0, actual result was 3.0\n",
      "Score for other numbers: {0.0: 9194.6938775510207, 1.0: 9104.9897959183672, 2.0: 11266.364795918367, 3.0: 10708.480867346938, 4.0: 8299.1352040816328, 5.0: 10033.332908163266, 6.0: 8643.1556122448983, 7.0: 8752.5676020408155, 8.0: 12554.701530612245, 9.0: 10302.451530612245}\n"
     ]
    },
    {
     "data": {
      "image/png": "[encoded data removed]",
      "text/plain": [
       "<matplotlib.figure.Figure at 0xf68d1c0588>"
      ]
     },
     "metadata": {},
     "output_type": "display_data"
    }
   ],
   "source": [
    "rand_digit = np.random.choice(range(len(numb_image))) # just picks a random digit\n",
    "def guess_idx(digit_idx):\n",
    "    guess_digit, guess_dict = classify_image(digit_examples, numb_image[digit_idx])\n",
    "    print('Guessed {}, actual result was {}'.format(guess_digit, numb_id[digit_idx]))\n",
    "    print('Score for other numbers:', guess_dict)\n",
    "    # show the results\n",
    "    fig, (ax_img, ax_score) = plt.subplots(1,2, figsize = (10, 5))\n",
    "    ax_img.imshow(numb_image[rand_digit], cmap = 'gray', interpolation = 'none')\n",
    "    ax_img.set_title('Guessed {}, actual result was {}'.format(guess_digit, numb_id[digit_idx]))\n",
    "    ax_score.bar(guess_dict.keys(), guess_dict.values())\n",
    "    ax_score.set_xlabel('Digit')\n",
    "    ax_score.set_ylabel('MSE')\n",
    "    ax_score.set_title('MSE for each digit')\n",
    "\n",
    "guess_idx(rand_digit)"
   ]
  },
  {
   "cell_type": "markdown",
   "metadata": {},
   "source": [
    "# Building a Classifier _ Enhanced\n",
    "Here we try to construct a more powerful classifer using what is already available"
   ]
  },
  {
   "cell_type": "code",
   "execution_count": null,
   "metadata": {
    "collapsed": true
   },
   "outputs": [],
   "source": [
    "from sklearn.svm import SVC\n",
    "classifier = SVC(C = 1, gamma = 0.001)\n",
    "classifier.fit(numb_vec, numb_id)\n",
    "predicted = classifier.predict(test_vec)"
   ]
  },
  {
   "cell_type": "code",
   "execution_count": 4,
   "metadata": {
    "collapsed": true
   },
   "outputs": [],
   "source": [
    "import tensorflow as tf\n",
    "# create image placeholder\n",
    "x = tf.placeholder(tf.float32, [None, 784])\n",
    "\n",
    "# Variables to learn \n",
    "W = tf.Variable(tf.zeros([784, 10]))\n",
    "b = tf.Variable(tf.zeros([10]))\n",
    "\n",
    "# define model\n",
    "y = tf.nn.softmax(tf.matmul(x, W) + b)\n",
    "\n",
    "#\n",
    "y_ = tf.placeholder(tf.float32, [None, 10])\n",
    "\n",
    "# Implement cross entropy\n",
    "cross_entropy = tf.reduce_mean(-tf.reduce_sum(y_ * tf.log(y), reduction_indices=[1]))\n",
    "# Train by minimizng a function\n",
    "train_step = tf.train.GradientDescentOptimizer(0.5).minimize(cross_entropy)"
   ]
  },
  {
   "cell_type": "markdown",
   "metadata": {},
   "source": [
    "# Submitting an Entry\n",
    "We can now submit an entry to the contest by running our digit classifier on all of the test images. The data for the test images is the same as the training data but there are no labels."
   ]
  },
  {
   "cell_type": "code",
   "execution_count": 13,
   "metadata": {
    "collapsed": false
   },
   "outputs": [
    {
     "name": "stdout",
     "output_type": "stream",
     "text": [
      "Test Vec (28000, 784)\n",
      "Test Image (28000, 28, 28)\n"
     ]
    }
   ],
   "source": [
    "test_vec = np.loadtxt(test_data_path, delimiter = ',', skiprows = 1)\n",
    "print('Test Vec', test_vec.shape)\n",
    "test_image = test_vec.reshape(-1, 28, 28)\n",
    "print('Test Image', test_image.shape)"
   ]
  },
  {
   "cell_type": "code",
   "execution_count": null,
   "metadata": {
    "collapsed": true
   },
   "outputs": [],
   "source": [
    "with open('submission_new.csv', 'w') as out_file:\n",
    "    out_file.write('ImageId,Label\\n')\n",
    "    for img_id, guess_label in enumerate(predicted):\n",
    "        out_file.write('%d,%d\\n' % (img_id+1, guess_label))"
   ]
  },
  {
   "cell_type": "markdown",
   "metadata": {},
   "source": [
    "## Make a guess for each image\n",
    "Here we make a guess for each image by using our ```classify_image``` function and just keeping the first result (the digit) and not the entire dictionary"
   ]
  },
  {
   "cell_type": "code",
   "execution_count": 15,
   "metadata": {
    "collapsed": false
   },
   "outputs": [
    {
     "name": "stdout",
     "output_type": "stream",
     "text": [
      "Wall time: 15.9 s\n"
     ]
    }
   ],
   "source": [
    "%%time\n",
    "guess_test_data = [classify_image(digit_examples, c_img)[0] for c_img in test_image]"
   ]
  },
  {
   "cell_type": "markdown",
   "metadata": {},
   "source": [
    "### Save the results\n",
    "Here we save the results to a file called submission that we can upload to Kaggle and see how we perform"
   ]
  },
  {
   "cell_type": "code",
   "execution_count": 16,
   "metadata": {
    "collapsed": false
   },
   "outputs": [],
   "source": [
    "with open('submission.csv', 'w') as out_file:\n",
    "    out_file.write('ImageId,Label\\n')\n",
    "    for img_id, guess_label in enumerate(guess_test_data):\n",
    "        out_file.write('%d,%d\\n' % (img_id+1, guess_label))"
   ]
  },
  {
   "cell_type": "markdown",
   "metadata": {},
   "source": [
    "# Basic Tasks\n",
    "- Submit the output to the competition, where does it come in? Is this better or worse than expected? What would random guessing be?\n",
    "\n",
    "# Idea Questions\n",
    "- What causes the classifier to fail on certain images?\n",
    "- How could the classifier be improved?\n",
    "- Could filtering or image enhancement improve the result, if so how\n",
    "\n",
    "# Challenge Tasks\n",
    "- Try improving the classifier by using SSIM or another similarity metric.\n",
    "- Try using more examples (or better examples)\n",
    "- Implement a version using image enhancement and compare the results"
   ]
  },
  {
   "cell_type": "code",
   "execution_count": null,
   "metadata": {
    "collapsed": true
   },
   "outputs": [],
   "source": []
  }
 ],
 "metadata": {
  "kernelspec": {
   "display_name": "Python 3",
   "language": "python",
   "name": "python3"
  },
  "language_info": {
   "codemirror_mode": {
    "name": "ipython",
    "version": 3
   },
   "file_extension": ".py",
   "mimetype": "text/x-python",
   "name": "python",
   "nbconvert_exporter": "python",
   "pygments_lexer": "ipython3",
   "version": "3.5.2"
  },
  "widgets": {
   "state": {
    "cd61fe53a1134879ab7d316fd6aa7dcd": {
     "views": [
      {
       "cell_index": 16
      }
     ]
    }
   },
   "version": "1.2.0"
  }
 },
 "nbformat": 4,
 "nbformat_minor": 1
}
